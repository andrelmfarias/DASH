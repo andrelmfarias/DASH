{
 "cells": [
  {
   "cell_type": "markdown",
   "metadata": {},
   "source": [
    "# Distributed Multi-Party Linear Regression"
   ]
  },
  {
   "cell_type": "markdown",
   "metadata": {},
   "source": [
    "Source: https://arxiv.org/pdf/1901.09531.pdf (section 2)"
   ]
  },
  {
   "cell_type": "markdown",
   "metadata": {},
   "source": [
    "## General imports"
   ]
  },
  {
   "cell_type": "code",
   "execution_count": 1,
   "metadata": {
    "ExecuteTime": {
     "end_time": "2019-08-14T21:22:43.983256Z",
     "start_time": "2019-08-14T21:22:43.018887Z"
    }
   },
   "outputs": [],
   "source": [
    "import numpy as np\n",
    "import pandas as pd\n",
    "from scipy.stats import t\n",
    "from statsmodels.api import OLS"
   ]
  },
  {
   "cell_type": "markdown",
   "metadata": {},
   "source": [
    "## Creating simulated data"
   ]
  },
  {
   "cell_type": "code",
   "execution_count": 2,
   "metadata": {
    "ExecuteTime": {
     "end_time": "2019-08-14T21:22:43.999774Z",
     "start_time": "2019-08-14T21:22:43.988665Z"
    }
   },
   "outputs": [],
   "source": [
    "# Public data\n",
    "K = 10\n",
    "\n",
    "# Alice's private data\n",
    "N1 = 1000\n",
    "y1 = np.random.randn(N1)\n",
    "C1 = np.random.randn(N1, K)\n",
    "\n",
    "# Bob's private data\n",
    "N2 = 2000\n",
    "y2 = np.random.randn(N2)\n",
    "C2 = np.random.randn(N2, K)\n",
    "\n",
    "# Carla's private data\n",
    "N3 = 1500\n",
    "y3 = np.random.randn(N3)\n",
    "C3 = np.random.randn(N3, K)"
   ]
  },
  {
   "cell_type": "markdown",
   "metadata": {},
   "source": [
    "## Linear regression"
   ]
  },
  {
   "cell_type": "markdown",
   "metadata": {},
   "source": [
    "### PRIVATE COMPUTATION - Compression"
   ]
  },
  {
   "cell_type": "code",
   "execution_count": 3,
   "metadata": {
    "ExecuteTime": {
     "end_time": "2019-08-14T21:22:44.014314Z",
     "start_time": "2019-08-14T21:22:44.005022Z"
    }
   },
   "outputs": [],
   "source": [
    "# Alice computes and secret shares...\n",
    "yy1 = y1.T @ y1\n",
    "Cty1 = C1.T @ y1\n",
    "CtC1 = C1.T @ C1\n",
    "\n",
    "# Bob computes and secret shares...\n",
    "yy2 = y2.T @ y2\n",
    "Cty2 = C2.T @ y2\n",
    "CtC2 = C2.T @ C2\n",
    "\n",
    "# Carla computes and secret shares...\n",
    "yy3 = y3.T @ y3\n",
    "Cty3 = C3.T @ y3\n",
    "CtC3 = C3.T @ C3"
   ]
  },
  {
   "cell_type": "markdown",
   "metadata": {},
   "source": [
    "### SECURE MULTI-PARTY COMPUTATION - Combine"
   ]
  },
  {
   "cell_type": "markdown",
   "metadata": {},
   "source": [
    "Theoretically, computations below can be done with SMPC to guarantee that no information about the data is leaked.\n",
    "\n",
    "With no SMPC, there is still a moderated level of security as the data was compressed and it is very difficult to trace it back."
   ]
  },
  {
   "cell_type": "markdown",
   "metadata": {},
   "source": [
    "**Computation is now independent of the sample sizes**"
   ]
  },
  {
   "cell_type": "code",
   "execution_count": 4,
   "metadata": {
    "ExecuteTime": {
     "end_time": "2019-08-14T21:22:44.027231Z",
     "start_time": "2019-08-14T21:22:44.019216Z"
    }
   },
   "outputs": [],
   "source": [
    "D = N1 + N2 + N3 - K\n",
    "\n",
    "yy = yy1 + yy2 + yy3\n",
    "Cty = Cty1 + Cty2 + Cty3\n",
    "CtC = CtC1 + CtC2 + CtC3\n",
    "invCtC = np.linalg.inv(CtC)"
   ]
  },
  {
   "cell_type": "markdown",
   "metadata": {},
   "source": [
    "**Computing coefficients and squared standard error:**"
   ]
  },
  {
   "cell_type": "code",
   "execution_count": 5,
   "metadata": {
    "ExecuteTime": {
     "end_time": "2019-08-14T21:22:44.039965Z",
     "start_time": "2019-08-14T21:22:44.032358Z"
    }
   },
   "outputs": [],
   "source": [
    "beta = np.linalg.solve(CtC, Cty)\n",
    "sigma_sq = np.diag(invCtC) * (yy - beta @ CtC @ beta) / D"
   ]
  },
  {
   "cell_type": "markdown",
   "metadata": {},
   "source": [
    "**With these we can compute t statistic and p-value:**"
   ]
  },
  {
   "cell_type": "code",
   "execution_count": 6,
   "metadata": {
    "ExecuteTime": {
     "end_time": "2019-08-14T21:22:44.052470Z",
     "start_time": "2019-08-14T21:22:44.045234Z"
    }
   },
   "outputs": [],
   "source": [
    "sigma = np.sqrt(sigma_sq)\n",
    "tstat = beta / sigma\n",
    "pval = 2 * t.cdf(-abs(tstat), D)"
   ]
  },
  {
   "cell_type": "markdown",
   "metadata": {},
   "source": [
    "### VERIFY correctness for the columns of X:"
   ]
  },
  {
   "cell_type": "markdown",
   "metadata": {},
   "source": [
    "**Keeping first results in a pandas DataFrame:**"
   ]
  },
  {
   "cell_type": "code",
   "execution_count": 7,
   "metadata": {
    "ExecuteTime": {
     "end_time": "2019-08-14T21:22:44.068892Z",
     "start_time": "2019-08-14T21:22:44.059128Z"
    }
   },
   "outputs": [],
   "source": [
    "df = pd.DataFrame({\n",
    "                    'beta': beta,\n",
    "                    'sigma': sigma, \n",
    "                    'tstat': tstat, \n",
    "                    'pval': pval\n",
    "                  })"
   ]
  },
  {
   "cell_type": "markdown",
   "metadata": {},
   "source": [
    "**Computing results using OLS model from statsmodel API:**"
   ]
  },
  {
   "cell_type": "code",
   "execution_count": 8,
   "metadata": {
    "ExecuteTime": {
     "end_time": "2019-08-14T21:22:44.093115Z",
     "start_time": "2019-08-14T21:22:44.074893Z"
    }
   },
   "outputs": [],
   "source": [
    "y = np.concatenate([y1 ,y2, y3])\n",
    "C = np.concatenate([C1, C2, C3])\n",
    "\n",
    "#res = np.zeros([K,4])\n",
    "model = OLS(y, C, hasconst=False)\n",
    "tmp_res = model.fit()\n",
    "res = np.array([tmp_res.params, tmp_res.bse, tmp_res.tvalues, tmp_res.pvalues]).T"
   ]
  },
  {
   "cell_type": "markdown",
   "metadata": {},
   "source": [
    "**Keeping results in a 2nd DataFrame:**"
   ]
  },
  {
   "cell_type": "code",
   "execution_count": 9,
   "metadata": {
    "ExecuteTime": {
     "end_time": "2019-08-14T21:22:44.107135Z",
     "start_time": "2019-08-14T21:22:44.098369Z"
    }
   },
   "outputs": [],
   "source": [
    "df2 = pd.DataFrame({\n",
    "                    'beta': res[:,0],\n",
    "                    'sigma': res[:,1], \n",
    "                    'tstat': res[:,2], \n",
    "                    'pval': res[:,3]\n",
    "                  })"
   ]
  },
  {
   "cell_type": "markdown",
   "metadata": {},
   "source": [
    "**Finally comparing results of both methods**"
   ]
  },
  {
   "cell_type": "code",
   "execution_count": 10,
   "metadata": {
    "ExecuteTime": {
     "end_time": "2019-08-14T21:22:44.167421Z",
     "start_time": "2019-08-14T21:22:44.111173Z"
    }
   },
   "outputs": [
    {
     "data": {
      "text/plain": [
       "True"
      ]
     },
     "execution_count": 10,
     "metadata": {},
     "output_type": "execute_result"
    }
   ],
   "source": [
    "df = df.apply(lambda x: round(x,10))\n",
    "df2 = df2.apply(lambda x: round(x,10))\n",
    "np.array(df == df2).all() # Returns TRUE"
   ]
  }
 ],
 "metadata": {
  "hide_input": false,
  "kernelspec": {
   "display_name": "Python 3",
   "language": "python",
   "name": "python3"
  },
  "language_info": {
   "codemirror_mode": {
    "name": "ipython",
    "version": 3
   },
   "file_extension": ".py",
   "mimetype": "text/x-python",
   "name": "python",
   "nbconvert_exporter": "python",
   "pygments_lexer": "ipython3",
   "version": "3.7.0"
  },
  "toc": {
   "base_numbering": 1,
   "nav_menu": {},
   "number_sections": true,
   "sideBar": true,
   "skip_h1_title": false,
   "title_cell": "Table of Contents",
   "title_sidebar": "Contents",
   "toc_cell": false,
   "toc_position": {},
   "toc_section_display": true,
   "toc_window_display": false
  },
  "varInspector": {
   "cols": {
    "lenName": 16,
    "lenType": 16,
    "lenVar": 40
   },
   "kernels_config": {
    "python": {
     "delete_cmd_postfix": "",
     "delete_cmd_prefix": "del ",
     "library": "var_list.py",
     "varRefreshCmd": "print(var_dic_list())"
    },
    "r": {
     "delete_cmd_postfix": ") ",
     "delete_cmd_prefix": "rm(",
     "library": "var_list.r",
     "varRefreshCmd": "cat(var_dic_list()) "
    }
   },
   "types_to_exclude": [
    "module",
    "function",
    "builtin_function_or_method",
    "instance",
    "_Feature"
   ],
   "window_display": false
  }
 },
 "nbformat": 4,
 "nbformat_minor": 2
}
